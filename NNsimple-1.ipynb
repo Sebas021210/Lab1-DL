{
 "cells": [
  {
   "cell_type": "code",
   "execution_count": 1,
   "id": "aec01c69-10ff-4511-b1bd-9868bd9a817a",
   "metadata": {
    "ExecuteTime": {
     "end_time": "2024-07-26T21:56:08.123013Z",
     "start_time": "2024-07-26T21:56:07.843141Z"
    }
   },
   "outputs": [],
   "source": [
    "#!/usr/bin/env python\n",
    "# -*- coding: utf-8 -*-\n",
    "\n",
    "import numpy as np\n",
    "import matplotlib.pyplot as plt"
   ]
  },
  {
   "cell_type": "code",
   "execution_count": 2,
   "id": "57a0d0a3-bce8-4c38-8519-de438453d9c9",
   "metadata": {
    "ExecuteTime": {
     "end_time": "2024-07-26T21:56:12.606188Z",
     "start_time": "2024-07-26T21:56:12.603050Z"
    }
   },
   "outputs": [],
   "source": [
    "# Funcion de activacion \n",
    "def sigmoid(z):\n",
    "    return 1/(1 + np.exp(-z))"
   ]
  },
  {
   "cell_type": "code",
   "execution_count": 3,
   "id": "116b55fd-9a7a-4b44-9539-d4872bbe498c",
   "metadata": {
    "ExecuteTime": {
     "end_time": "2024-07-26T22:00:09.240146Z",
     "start_time": "2024-07-26T22:00:09.228378Z"
    }
   },
   "outputs": [],
   "source": [
    "# Inicializacion de los parametros \n",
    "def initialize_parameters(n_x, n_h, n_y):\n",
    "    W1 = np.random.randn(n_h, n_x)\n",
    "    b1 = np.random.randn(n_h, 1)\n",
    "    W2 = np.random.randn(n_y, n_h)\n",
    "    b2 = np.random.randn(n_y, 1)\n",
    "    \n",
    "    parameters = {\n",
    "        \"W1\": W1,\n",
    "        \"b1\" : b1,\n",
    "        \"W2\": W2,\n",
    "        \"b2\" : b2\n",
    "    }\n",
    "    return parameters"
   ]
  },
  {
   "cell_type": "code",
   "execution_count": 4,
   "id": "3ce94b57",
   "metadata": {},
   "outputs": [],
   "source": [
    "# Inicializacion de los parametros aleatorios\n",
    "def initialize_parameters_random(n_x, n_h, n_y):\n",
    "    W1 = np.random.randn(n_h, n_x)\n",
    "    b1 = np.random.randn(n_h, 1)\n",
    "    W2 = np.random.randn(n_y, n_h)\n",
    "    b2 = np.random.randn(n_y, 1)\n",
    "    \n",
    "    parameters = {\n",
    "        \"W1\": W1,\n",
    "        \"b1\" : b1,\n",
    "        \"W2\": W2,\n",
    "        \"b2\" : b2\n",
    "    }\n",
    "    return parameters"
   ]
  },
  {
   "cell_type": "code",
   "execution_count": 5,
   "id": "20ce0edf",
   "metadata": {},
   "outputs": [],
   "source": [
    "# Inicializacion de los parametros en cero\n",
    "def initialize_parameters_zeros(n_x, n_h, n_y):\n",
    "    W1 = np.zeros((n_h, n_x))\n",
    "    b1 = np.zeros((n_h, 1))\n",
    "    W2 = np.zeros((n_y, n_h))\n",
    "    b2 = np.zeros((n_y, 1))\n",
    "    \n",
    "    parameters = {\n",
    "        \"W1\": W1,\n",
    "        \"b1\" : b1,\n",
    "        \"W2\": W2,\n",
    "        \"b2\" : b2\n",
    "    }\n",
    "    return parameters"
   ]
  },
  {
   "cell_type": "code",
   "execution_count": 6,
   "id": "d6be7ae9-04d0-4d6a-9c01-5a7eac130dfa",
   "metadata": {
    "ExecuteTime": {
     "end_time": "2024-07-26T21:56:14.124719Z",
     "start_time": "2024-07-26T21:56:14.121429Z"
    }
   },
   "outputs": [],
   "source": [
    "def forward_prop(X, parameters):\n",
    "    W1 = parameters[\"W1\"]\n",
    "    b1 = parameters[\"b1\"]\n",
    "    W2 = parameters[\"W2\"]\n",
    "    b2 = parameters[\"b2\"]\n",
    "\n",
    "    Z1 = np.dot(W1, X) + b1\n",
    "    A1 = np.tanh(Z1)\n",
    "    Z2 = np.dot(W2, A1) + b2\n",
    "    A2 = sigmoid(Z2)\n",
    "\n",
    "    cache = {\n",
    "        \"A1\": A1,\n",
    "        \"A2\": A2\n",
    "    }\n",
    "    return A2, cache"
   ]
  },
  {
   "cell_type": "code",
   "execution_count": 7,
   "id": "b9955bcc-5d7a-4835-92a3-e8a14b17075a",
   "metadata": {
    "ExecuteTime": {
     "end_time": "2024-07-26T21:59:21.621142Z",
     "start_time": "2024-07-26T21:59:21.608741Z"
    }
   },
   "outputs": [],
   "source": [
    "# Funcion de perdida\n",
    "\n",
    "'''def loss_function(A2, Y):\n",
    "    cost = -np.sum(np.multiply(Y, np.log(A2)) +  np.multiply(1-Y, np.log(1-A2)))/m\n",
    "    cost = np.squeeze(cost)\n",
    "\n",
    "    return cost\n",
    "'''\n",
    "\n",
    "# Función de pérdida MSE\n",
    "def loss_function(A2, Y):\n",
    "    cost = np.mean((A2 - Y) ** 2)\n",
    "    return cost"
   ]
  },
  {
   "cell_type": "code",
   "execution_count": 8,
   "id": "c44babe6-3b89-4ae1-afa0-c0d67963db7b",
   "metadata": {
    "ExecuteTime": {
     "end_time": "2024-07-26T21:59:00.143312Z",
     "start_time": "2024-07-26T21:59:00.135020Z"
    }
   },
   "outputs": [],
   "source": [
    "   \n",
    "def backward_prop(X, Y, cache, parameters):\n",
    "    A1 = cache[\"A1\"]\n",
    "    A2 = cache[\"A2\"]\n",
    "\n",
    "    W2 = parameters[\"W2\"]\n",
    "\n",
    "    dZ2 = A2 - Y\n",
    "    dW2 = np.dot(dZ2, A1.T)/m\n",
    "    db2 = np.sum(dZ2, axis=1, keepdims=True)/m\n",
    "    dZ1 = np.multiply(np.dot(W2.T, dZ2), 1-np.power(A1, 2))\n",
    "    dW1 = np.dot(dZ1, X.T)/m\n",
    "    db1 = np.sum(dZ1, axis=1, keepdims=True)/m\n",
    "\n",
    "    grads = {\n",
    "        \"dW1\": dW1,\n",
    "        \"db1\": db1,\n",
    "        \"dW2\": dW2,\n",
    "        \"db2\": db2\n",
    "    }\n",
    "\n",
    "    return grads"
   ]
  },
  {
   "cell_type": "code",
   "execution_count": 9,
   "id": "46551921-f9de-469c-803b-1d3178de2e63",
   "metadata": {
    "ExecuteTime": {
     "end_time": "2024-07-26T21:56:16.164320Z",
     "start_time": "2024-07-26T21:56:16.160744Z"
    }
   },
   "outputs": [],
   "source": [
    "def update_parameters(parameters, grads, learning_rate):\n",
    "    W1 = parameters[\"W1\"]\n",
    "    b1 = parameters[\"b1\"]\n",
    "    W2 = parameters[\"W2\"]\n",
    "    b2 = parameters[\"b2\"]\n",
    "\n",
    "    dW1 = grads[\"dW1\"]\n",
    "    db1 = grads[\"db1\"]\n",
    "    dW2 = grads[\"dW2\"]\n",
    "    db2 = grads[\"db2\"]\n",
    "\n",
    "    W1 = W1 - learning_rate*dW1\n",
    "    b1 = b1 - learning_rate*db1\n",
    "    W2 = W2 - learning_rate*dW2\n",
    "    b2 = b2 - learning_rate*db2\n",
    "    \n",
    "    new_parameters = {\n",
    "        \"W1\": W1,\n",
    "        \"W2\": W2,\n",
    "        \"b1\" : b1,\n",
    "        \"b2\" : b2\n",
    "    }\n",
    "\n",
    "    return new_parameters"
   ]
  },
  {
   "cell_type": "code",
   "execution_count": 10,
   "id": "d570771f-8737-448d-a26a-a29e6f0adb16",
   "metadata": {
    "ExecuteTime": {
     "end_time": "2024-07-26T21:59:14.094293Z",
     "start_time": "2024-07-26T21:59:14.087913Z"
    }
   },
   "outputs": [],
   "source": [
    "def model(X, Y, n_x, n_h, n_y, num_of_iters, learning_rate, initialize_parameters_func):\n",
    "    parameters = initialize_parameters_func(n_x, n_h, n_y)\n",
    "\n",
    "    for i in range(0, num_of_iters+1):\n",
    "        a2, cache = forward_prop(X, parameters)\n",
    "\n",
    "        cost = loss_function(a2, Y)\n",
    "\n",
    "        grads = backward_prop(X, Y, cache, parameters)\n",
    "\n",
    "        parameters = update_parameters(parameters, grads, learning_rate)\n",
    "\n",
    "        if(i % 100 == 0):\n",
    "            print('Cost after iteration# {:d}: {:f}'.format(i, cost))\n",
    "\n",
    "    return parameters"
   ]
  },
  {
   "cell_type": "code",
   "execution_count": 11,
   "id": "2aab1986",
   "metadata": {},
   "outputs": [],
   "source": [
    "def model2(X, Y, n_x, n_h, n_y, num_of_iters, learning_rate):\n",
    "    parameters = initialize_parameters_random(n_x, n_h, n_y)\n",
    "    costs = []\n",
    "\n",
    "    for i in range(0, num_of_iters+1):\n",
    "        a2, cache = forward_prop(X, parameters)\n",
    "        cost = loss_function(a2, Y)\n",
    "        grads = backward_prop(X, Y, cache, parameters)\n",
    "        parameters = update_parameters(parameters, grads, learning_rate)\n",
    "\n",
    "        if i % 100 == 0:\n",
    "            costs.append(cost)\n",
    "            print('Cost after iteration# {:d}: {:f}'.format(i, cost))\n",
    "\n",
    "    return parameters, costs"
   ]
  },
  {
   "cell_type": "code",
   "execution_count": 12,
   "id": "7d18e70d-67e2-45b0-8fe6-25425837ce26",
   "metadata": {
    "ExecuteTime": {
     "end_time": "2024-07-26T21:56:19.879371Z",
     "start_time": "2024-07-26T21:56:19.874774Z"
    }
   },
   "outputs": [],
   "source": [
    "def predict(X, parameters):\n",
    "    a2, cache = forward_prop(X, parameters)\n",
    "    yhat = a2\n",
    "    yhat = np.squeeze(yhat)\n",
    "    if(yhat >= 0.5):\n",
    "        y_predict = 1\n",
    "    else:\n",
    "        y_predict = 0\n",
    "\n",
    "    return y_predict"
   ]
  },
  {
   "cell_type": "code",
   "execution_count": 13,
   "id": "d88cffb5-e998-4533-aa74-243088c76171",
   "metadata": {
    "ExecuteTime": {
     "end_time": "2024-07-26T22:00:12.409074Z",
     "start_time": "2024-07-26T22:00:12.354124Z"
    }
   },
   "outputs": [
    {
     "name": "stdout",
     "output_type": "stream",
     "text": [
      "Inicialización con ceros\n",
      "Cost after iteration# 0: 0.250000\n",
      "Cost after iteration# 100: 0.250000\n",
      "Cost after iteration# 200: 0.250000\n",
      "Cost after iteration# 300: 0.250000\n",
      "Cost after iteration# 400: 0.250000\n",
      "Cost after iteration# 500: 0.250000\n",
      "Cost after iteration# 600: 0.250000\n",
      "Cost after iteration# 700: 0.250000\n",
      "Cost after iteration# 800: 0.250000\n",
      "Cost after iteration# 900: 0.250000\n",
      "Cost after iteration# 1000: 0.250000\n",
      "Parámetros entrenados con inicialización en ceros:\n",
      "{'W1': array([[0., 0.],\n",
      "       [0., 0.]]), 'W2': array([[0., 0.]]), 'b1': array([[0.],\n",
      "       [0.]]), 'b2': array([[0.]])}\n",
      "\n",
      "Inicialización aleatoria\n",
      "Cost after iteration# 0: 0.357529\n",
      "Cost after iteration# 100: 0.251127\n",
      "Cost after iteration# 200: 0.250260\n",
      "Cost after iteration# 300: 0.250029\n",
      "Cost after iteration# 400: 0.249910\n",
      "Cost after iteration# 500: 0.249816\n",
      "Cost after iteration# 600: 0.249720\n",
      "Cost after iteration# 700: 0.249602\n",
      "Cost after iteration# 800: 0.249441\n",
      "Cost after iteration# 900: 0.249196\n",
      "Cost after iteration# 1000: 0.248766\n",
      "Parámetros entrenados con inicialización aleatoria:\n",
      "{'W1': array([[-0.59247105, -0.47282144],\n",
      "       [-2.06763357, -0.23592616]]), 'W2': array([[-0.43995116, -0.16049007]]), 'b1': array([[-1.50109455],\n",
      "       [-1.77729809]]), 'b2': array([[-0.56827845]])}\n",
      "\n",
      "Neural Network prediction for example (1, 1) is 1\n"
     ]
    }
   ],
   "source": [
    "np.random.seed(2)\n",
    "\n",
    "# The 4 training examples by columns\n",
    "X = np.array([[0, 0, 1, 1], [0, 1, 0, 1]])\n",
    "\n",
    "# The outputs of the XOR for every example in X\n",
    "Y = np.array([[0, 1, 1, 0]])\n",
    "\n",
    "# No. of training examples\n",
    "m = X.shape[1]\n",
    "\n",
    "# Set the hyperparameters\n",
    "n_x = 2     #No. of neurons in first layer\n",
    "n_h = 2     #No. of neurons in hidden layer\n",
    "n_y = 1     #No. of neurons in output layer\n",
    "num_of_iters = 1000\n",
    "learning_rate = 0.3\n",
    "\n",
    "# Inicializar con ceros\n",
    "print(\"Inicialización con ceros\")\n",
    "trained_parameters_zeros = model(X, Y, n_x, n_h, n_y, num_of_iters, learning_rate, initialize_parameters_zeros)\n",
    "print(\"Parámetros entrenados con inicialización en ceros:\")\n",
    "print(trained_parameters_zeros)\n",
    "\n",
    "# Inicializar aleatoriamente\n",
    "print(\"\\nInicialización aleatoria\")\n",
    "trained_parameters_random = model(X, Y, n_x, n_h, n_y, num_of_iters, learning_rate, initialize_parameters_random)\n",
    "print(\"Parámetros entrenados con inicialización aleatoria:\")\n",
    "print(trained_parameters_random)\n",
    "\n",
    "# Predicción\n",
    "X_test = np.array([[1], [1]])\n",
    "y_predict = predict(X_test, trained_parameters_random)\n",
    "print('\\nNeural Network prediction for example ({:d}, {:d}) is {:d}'.format(X_test[0][0], X_test[1][0], y_predict))"
   ]
  },
  {
   "cell_type": "code",
   "execution_count": 14,
   "id": "8d1bbd84",
   "metadata": {},
   "outputs": [
    {
     "name": "stdout",
     "output_type": "stream",
     "text": [
      "\n",
      "Training with learning rate: 0.01\n",
      "Cost after iteration# 0: 0.357529\n",
      "Cost after iteration# 100: 0.343009\n",
      "Cost after iteration# 200: 0.322576\n",
      "Cost after iteration# 300: 0.300981\n",
      "Cost after iteration# 400: 0.284637\n",
      "Cost after iteration# 500: 0.274225\n",
      "Cost after iteration# 600: 0.267766\n",
      "Cost after iteration# 700: 0.263618\n",
      "Cost after iteration# 800: 0.260821\n",
      "Cost after iteration# 900: 0.258849\n",
      "Cost after iteration# 1000: 0.257402\n",
      "\n",
      "Training with learning rate: 0.1\n",
      "Cost after iteration# 0: 0.368460\n",
      "Cost after iteration# 100: 0.240813\n",
      "Cost after iteration# 200: 0.219446\n",
      "Cost after iteration# 300: 0.202627\n",
      "Cost after iteration# 400: 0.191411\n",
      "Cost after iteration# 500: 0.184042\n",
      "Cost after iteration# 600: 0.178862\n",
      "Cost after iteration# 700: 0.174596\n",
      "Cost after iteration# 800: 0.169284\n",
      "Cost after iteration# 900: 0.147675\n",
      "Cost after iteration# 1000: 0.083481\n",
      "\n",
      "Training with learning rate: 0.5\n",
      "Cost after iteration# 0: 0.260077\n",
      "Cost after iteration# 100: 0.222370\n",
      "Cost after iteration# 200: 0.181488\n",
      "Cost after iteration# 300: 0.173801\n",
      "Cost after iteration# 400: 0.171238\n",
      "Cost after iteration# 500: 0.170000\n",
      "Cost after iteration# 600: 0.169278\n",
      "Cost after iteration# 700: 0.168807\n",
      "Cost after iteration# 800: 0.168478\n",
      "Cost after iteration# 900: 0.168234\n",
      "Cost after iteration# 1000: 0.168047\n"
     ]
    },
    {
     "data": {
      "image/png": "[encoded data removed]",
      "text/plain": [
       "<Figure size 640x480 with 1 Axes>"
      ]
     },
     "metadata": {},
     "output_type": "display_data"
    }
   ],
   "source": [
    "np.random.seed(2)\n",
    "X = np.array([[0, 0, 1, 1], [0, 1, 0, 1]])\n",
    "Y = np.array([[0, 1, 1, 0]])\n",
    "m = X.shape[1]\n",
    "\n",
    "n_x = 2\n",
    "n_h = 2\n",
    "n_y = 1\n",
    "num_of_iters = 1000\n",
    "\n",
    "learning_rates = [0.01, 0.1, 0.5]\n",
    "costs_dict = {}\n",
    "\n",
    "for lr in learning_rates:\n",
    "    print(f\"\\nTraining with learning rate: {lr}\")\n",
    "    trained_parameters, costs = model2(X, Y, n_x, n_h, n_y, num_of_iters, lr)\n",
    "    costs_dict[lr] = costs\n",
    "\n",
    "for lr in learning_rates:\n",
    "    plt.plot(np.squeeze(costs_dict[lr]), label=f'lr={lr}')\n",
    "\n",
    "plt.ylabel('Cost')\n",
    "plt.xlabel('Iterations (per hundreds)')\n",
    "plt.legend(loc='upper right')\n",
    "plt.title('Cost reduction over iterations for different learning rates')\n",
    "plt.show()"
   ]
  }
 ],
 "metadata": {
  "kernelspec": {
   "display_name": "Python 3 (ipykernel)",
   "language": "python",
   "name": "python3"
  },
  "language_info": {
   "codemirror_mode": {
    "name": "ipython",
    "version": 3
   },
   "file_extension": ".py",
   "mimetype": "text/x-python",
   "name": "python",
   "nbconvert_exporter": "python",
   "pygments_lexer": "ipython3",
   "version": "3.11.7"
  }
 },
 "nbformat": 4,
 "nbformat_minor": 5
}
